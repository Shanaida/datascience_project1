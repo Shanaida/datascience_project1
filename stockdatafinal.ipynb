{
 "cells": [
  {
   "cell_type": "code",
   "execution_count": 2,
   "metadata": {},
   "outputs": [],
   "source": [
    "import csv\n",
    "import matplotlib.pyplot as plt\n",
    "import requests\n",
    "import pandas as pd\n",
    "import json\n",
    "import numpy as np\n",
    "from api_keys_project1 import stock_api_key"
   ]
  },
  {
   "cell_type": "code",
   "execution_count": 24,
   "metadata": {},
   "outputs": [
    {
     "name": "stdout",
     "output_type": "stream",
     "text": [
      "Collecting quandl\n",
      "  Downloading Quandl-3.5.2-py2.py3-none-any.whl (25 kB)\n",
      "Requirement already satisfied: more-itertools in c:\\users\\brian\\anaconda3\\lib\\site-packages (from quandl) (8.2.0)\n",
      "Collecting inflection>=0.3.1\n",
      "  Downloading inflection-0.5.1-py2.py3-none-any.whl (9.5 kB)\n",
      "Requirement already satisfied: six in c:\\users\\brian\\anaconda3\\lib\\site-packages (from quandl) (1.14.0)\n",
      "Requirement already satisfied: requests>=2.7.0 in c:\\users\\brian\\anaconda3\\lib\\site-packages (from quandl) (2.22.0)\n",
      "Requirement already satisfied: numpy>=1.8 in c:\\users\\brian\\anaconda3\\lib\\site-packages (from quandl) (1.18.1)\n",
      "Requirement already satisfied: pandas>=0.14 in c:\\users\\brian\\anaconda3\\lib\\site-packages (from quandl) (1.0.1)\n",
      "Requirement already satisfied: python-dateutil in c:\\users\\brian\\anaconda3\\lib\\site-packages (from quandl) (2.8.1)\n",
      "Requirement already satisfied: chardet<3.1.0,>=3.0.2 in c:\\users\\brian\\anaconda3\\lib\\site-packages (from requests>=2.7.0->quandl) (3.0.4)\n",
      "Requirement already satisfied: idna<2.9,>=2.5 in c:\\users\\brian\\anaconda3\\lib\\site-packages (from requests>=2.7.0->quandl) (2.8)\n",
      "Requirement already satisfied: urllib3!=1.25.0,!=1.25.1,<1.26,>=1.21.1 in c:\\users\\brian\\anaconda3\\lib\\site-packages (from requests>=2.7.0->quandl) (1.25.8)\n",
      "Requirement already satisfied: certifi>=2017.4.17 in c:\\users\\brian\\anaconda3\\lib\\site-packages (from requests>=2.7.0->quandl) (2019.11.28)\n",
      "Requirement already satisfied: pytz>=2017.2 in c:\\users\\brian\\anaconda3\\lib\\site-packages (from pandas>=0.14->quandl) (2019.3)\n",
      "Installing collected packages: inflection, quandl\n",
      "Successfully installed inflection-0.5.1 quandl-3.5.2\n",
      "Note: you may need to restart the kernel to use updated packages.\n"
     ]
    }
   ],
   "source": [
    "pip install quandl"
   ]
  },
  {
   "cell_type": "code",
   "execution_count": 26,
   "metadata": {},
   "outputs": [],
   "source": [
    "import quandl"
   ]
  },
  {
   "cell_type": "code",
   "execution_count": 29,
   "metadata": {},
   "outputs": [
    {
     "data": {
      "text/html": [
       "<div>\n",
       "<style scoped>\n",
       "    .dataframe tbody tr th:only-of-type {\n",
       "        vertical-align: middle;\n",
       "    }\n",
       "\n",
       "    .dataframe tbody tr th {\n",
       "        vertical-align: top;\n",
       "    }\n",
       "\n",
       "    .dataframe thead th {\n",
       "        text-align: right;\n",
       "    }\n",
       "</style>\n",
       "<table border=\"1\" class=\"dataframe\">\n",
       "  <thead>\n",
       "    <tr style=\"text-align: right;\">\n",
       "      <th></th>\n",
       "      <th>Open</th>\n",
       "      <th>High</th>\n",
       "      <th>Low</th>\n",
       "      <th>Close</th>\n",
       "    </tr>\n",
       "    <tr>\n",
       "      <th>Date</th>\n",
       "      <th></th>\n",
       "      <th></th>\n",
       "      <th></th>\n",
       "      <th></th>\n",
       "    </tr>\n",
       "  </thead>\n",
       "  <tbody>\n",
       "    <tr>\n",
       "      <th>2019-01-01</th>\n",
       "      <td>14572.46</td>\n",
       "      <td>14595.97</td>\n",
       "      <td>14476.44</td>\n",
       "      <td>14587.25</td>\n",
       "    </tr>\n",
       "    <tr>\n",
       "      <th>2019-01-02</th>\n",
       "      <td>14567.63</td>\n",
       "      <td>14582.13</td>\n",
       "      <td>14382.22</td>\n",
       "      <td>14432.40</td>\n",
       "    </tr>\n",
       "    <tr>\n",
       "      <th>2019-01-03</th>\n",
       "      <td>14447.93</td>\n",
       "      <td>14481.75</td>\n",
       "      <td>14279.15</td>\n",
       "      <td>14290.85</td>\n",
       "    </tr>\n",
       "    <tr>\n",
       "      <th>2019-01-04</th>\n",
       "      <td>14322.60</td>\n",
       "      <td>14371.90</td>\n",
       "      <td>14239.57</td>\n",
       "      <td>14355.02</td>\n",
       "    </tr>\n",
       "    <tr>\n",
       "      <th>2019-01-07</th>\n",
       "      <td>14452.50</td>\n",
       "      <td>14483.96</td>\n",
       "      <td>14371.52</td>\n",
       "      <td>14389.35</td>\n",
       "    </tr>\n",
       "  </tbody>\n",
       "</table>\n",
       "</div>"
      ],
      "text/plain": [
       "                Open      High       Low     Close\n",
       "Date                                              \n",
       "2019-01-01  14572.46  14595.97  14476.44  14587.25\n",
       "2019-01-02  14567.63  14582.13  14382.22  14432.40\n",
       "2019-01-03  14447.93  14481.75  14279.15  14290.85\n",
       "2019-01-04  14322.60  14371.90  14239.57  14355.02\n",
       "2019-01-07  14452.50  14483.96  14371.52  14389.35"
      ]
     },
     "execution_count": 29,
     "metadata": {},
     "output_type": "execute_result"
    }
   ],
   "source": [
    "quandl.ApiConfig.api_key = stock_api_key\n",
    "BSE500 = quandl.get('BSE/BSE500',start_date =\"2019-01-01\",end_date=\"2019-12-31\")\n",
    "BSE500.head()"
   ]
  },
  {
   "cell_type": "code",
   "execution_count": 55,
   "metadata": {},
   "outputs": [
    {
     "data": {
      "text/html": [
       "<div>\n",
       "<style scoped>\n",
       "    .dataframe tbody tr th:only-of-type {\n",
       "        vertical-align: middle;\n",
       "    }\n",
       "\n",
       "    .dataframe tbody tr th {\n",
       "        vertical-align: top;\n",
       "    }\n",
       "\n",
       "    .dataframe thead th {\n",
       "        text-align: right;\n",
       "    }\n",
       "</style>\n",
       "<table border=\"1\" class=\"dataframe\">\n",
       "  <thead>\n",
       "    <tr style=\"text-align: right;\">\n",
       "      <th></th>\n",
       "      <th>Open</th>\n",
       "      <th>High</th>\n",
       "      <th>Low</th>\n",
       "      <th>Close</th>\n",
       "    </tr>\n",
       "    <tr>\n",
       "      <th>Date</th>\n",
       "      <th></th>\n",
       "      <th></th>\n",
       "      <th></th>\n",
       "      <th></th>\n",
       "    </tr>\n",
       "  </thead>\n",
       "  <tbody>\n",
       "    <tr>\n",
       "      <th>2019-01-01</th>\n",
       "      <td>14572</td>\n",
       "      <td>14595</td>\n",
       "      <td>14476</td>\n",
       "      <td>14587</td>\n",
       "    </tr>\n",
       "    <tr>\n",
       "      <th>2019-12-31</th>\n",
       "      <td>15764</td>\n",
       "      <td>15764</td>\n",
       "      <td>15647</td>\n",
       "      <td>15667</td>\n",
       "    </tr>\n",
       "  </tbody>\n",
       "</table>\n",
       "</div>"
      ],
      "text/plain": [
       "             Open   High    Low  Close\n",
       "Date                                  \n",
       "2019-01-01  14572  14595  14476  14587\n",
       "2019-12-31  15764  15764  15647  15667"
      ]
     },
     "execution_count": 55,
     "metadata": {},
     "output_type": "execute_result"
    }
   ],
   "source": [
    "#BSE500data = BSE500.query(\"Date == '2019-01-01'\",\"Date == '2019-12-31')\n",
    "#BSE500data = BSE500data.reset_index(drop=True)\n",
    "#BSE500data.head()\n",
    "\n",
    "BSE500data= pd.concat([BSE500.head(1), BSE500.tail(1)])\n",
    "BSE500data['Open'] = BSE500data['Open'].astype(int)\n",
    "BSE500data['Open'].round(0)\n",
    "BSE500data['High'] = BSE500data['High'].astype(int)\n",
    "BSE500data['High'].round(0)\n",
    "BSE500data['Low'] = BSE500data['Low'].astype(int)\n",
    "BSE500data['Low'].round(0)\n",
    "BSE500data['Close'] = BSE500data['Close'].astype(int)\n",
    "BSE500data['Close'].round(0)\n",
    "\n",
    "BSE500data.head()                       "
   ]
  },
  {
   "cell_type": "code",
   "execution_count": 51,
   "metadata": {},
   "outputs": [
    {
     "name": "stdout",
     "output_type": "stream",
     "text": [
      "-0.10%\n"
     ]
    }
   ],
   "source": [
    "openprice= BSE500data.loc[\"2019-01-01\", \"Open\"]\n",
    "closeprice= BSE500data.loc[\"2019-01-01\", \"Close\"]\n",
    "yearlypctchange = \"{:.2%}\".format(openprice/closeprice-1)\n",
    "print(yearlypctchange)"
   ]
  },
  {
   "cell_type": "code",
   "execution_count": null,
   "metadata": {},
   "outputs": [],
   "source": []
  }
 ],
 "metadata": {
  "kernelspec": {
   "display_name": "Python 3",
   "language": "python",
   "name": "python3"
  },
  "language_info": {
   "codemirror_mode": {
    "name": "ipython",
    "version": 3
   },
   "file_extension": ".py",
   "mimetype": "text/x-python",
   "name": "python",
   "nbconvert_exporter": "python",
   "pygments_lexer": "ipython3",
   "version": "3.7.6"
  }
 },
 "nbformat": 4,
 "nbformat_minor": 4
}
